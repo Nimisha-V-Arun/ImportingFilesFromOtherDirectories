{
 "cells": [
  {
   "cell_type": "code",
   "execution_count": 2,
   "metadata": {},
   "outputs": [],
   "source": [
    "# If the file is available in some other directory\n",
    "# Python checks its sys.path property for modules, classes and packages\n",
    "# If you intend to import a python file from the current Directory, this is similar to normal import\n",
    "# If you intend to import a python file from some other directory, they follow these steps:"
   ]
  },
  {
   "cell_type": "code",
   "execution_count": 5,
   "metadata": {},
   "outputs": [],
   "source": [
    "import sys\n",
    "\n",
    "sys.path.append(\"../pathname/of/the/DIRECTORY/that/consists/your/python/file.py\")\n",
    "\n",
    "# Now the file path is added to the sys.path and python will now start checking this diretory for the requested\n",
    "# file, class or module\n",
    "\n",
    "# ---> from pythonFileName import className <-- \n",
    "\n",
    "# use the above command to import the necessary file\n",
    "# Have a look at the following example for better understanding"
   ]
  },
  {
   "cell_type": "code",
   "execution_count": 8,
   "metadata": {},
   "outputs": [
    {
     "name": "stdout",
     "output_type": "stream",
     "text": [
      "The directory Book contains the file thinkbayes.py which consists of the class Pmf\n",
      "../../Immediate/Books/thinkbayes.py\n",
      "\n"
     ]
    }
   ],
   "source": [
    "import sys\n",
    "\n",
    "from subprocess import check_output\n",
    "print(\"The directory Book contains the file thinkbayes.py which consists of the class Pmf\")\n",
    "print(check_output([\"ls\", \"../../Immediate/Books/thinkbayes.py\"]).decode(\"utf8\"))\n",
    "\n",
    "\n",
    "sys.path.append(\"../../Immediate/Books\")\n",
    "\n",
    "from thinkbayes import Pmf\n",
    "\n",
    "\n"
   ]
  },
  {
   "cell_type": "code",
   "execution_count": null,
   "metadata": {},
   "outputs": [],
   "source": []
  }
 ],
 "metadata": {
  "kernelspec": {
   "display_name": "Python 3",
   "language": "python",
   "name": "python3"
  },
  "language_info": {
   "codemirror_mode": {
    "name": "ipython",
    "version": 3
   },
   "file_extension": ".py",
   "mimetype": "text/x-python",
   "name": "python",
   "nbconvert_exporter": "python",
   "pygments_lexer": "ipython3",
   "version": "3.6.5"
  }
 },
 "nbformat": 4,
 "nbformat_minor": 2
}
